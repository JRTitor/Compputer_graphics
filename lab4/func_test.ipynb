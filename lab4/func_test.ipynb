{
 "cells": [
  {
   "cell_type": "code",
   "execution_count": 1,
   "metadata": {},
   "outputs": [],
   "source": [
    "import numpy as np"
   ]
  },
  {
   "cell_type": "code",
   "execution_count": 2,
   "metadata": {},
   "outputs": [],
   "source": [
    "def get_xyz(r_outter=2, r_inner=1, nt=5, a=00.5, h=1):\n",
    "    def cylinder(r, a=0, nt=5, h=1):\n",
    "        theta = np.linspace(-np.pi/2, np.pi/2, nt)\n",
    "        v = np.ones(nt) * h\n",
    "        x = r*np.cos(theta) - a\n",
    "        y = r*np.sin(theta)\n",
    "        z = v\n",
    "        return x, y, z\n",
    "\n",
    "    x, y, z = cylinder(r_outter, nt=nt, h=h)\n",
    "    x_1, y_1, z_1 = cylinder(r_outter, nt=nt, h=h)\n",
    "    z_1 = np.zeros_like(z_1)\n",
    "    x = np.concatenate((x, x_1[::-1]), axis=0)\n",
    "    y = np.concatenate((y, y_1[::-1]), axis=0)\n",
    "    z = np.concatenate((z, z_1[::-1]), axis=0)\n",
    "\n",
    "    x_2, y_2, z_2 = cylinder(r_inner, nt=nt, a=a, h=h)\n",
    "    x_3, y_3, z_3 = cylinder(r_inner, nt=nt, a=a, h=h)\n",
    "    z_3 = np.zeros_like(z_3)\n",
    "    x_2 = np.concatenate((x_2, x_3[::-1]), axis=0)\n",
    "    y_2 = np.concatenate((y_2, y_3[::-1]), axis=0)\n",
    "    z_2 = np.concatenate((z_2, z_3[::-1]), axis=0)\n",
    "\n",
    "    x = np.concatenate((x, x_2), axis=0)\n",
    "    y = np.concatenate((y, y_2), axis=0)\n",
    "    z = np.concatenate((z, z_2), axis=0)\n",
    "\n",
    "    return x, y, z"
   ]
  },
  {
   "cell_type": "code",
   "execution_count": 3,
   "metadata": {},
   "outputs": [],
   "source": [
    "x, y, z = get_xyz()"
   ]
  },
  {
   "cell_type": "code",
   "execution_count": 5,
   "metadata": {},
   "outputs": [
    {
     "data": {
      "text/plain": [
       "[1.2246467991473532e-16,\n",
       " 1.4142135623730951,\n",
       " 2.0,\n",
       " 1.4142135623730951,\n",
       " 1.2246467991473532e-16,\n",
       " 1.2246467991473532e-16,\n",
       " 1.4142135623730951,\n",
       " 2.0,\n",
       " 1.4142135623730951,\n",
       " 1.2246467991473532e-16,\n",
       " -0.49999999999999994,\n",
       " 0.20710678118654757,\n",
       " 0.5,\n",
       " 0.20710678118654757,\n",
       " -0.49999999999999994,\n",
       " -0.49999999999999994,\n",
       " 0.20710678118654757,\n",
       " 0.5,\n",
       " 0.20710678118654757,\n",
       " -0.49999999999999994]"
      ]
     },
     "execution_count": 5,
     "metadata": {},
     "output_type": "execute_result"
    }
   ],
   "source": [
    "list(x)"
   ]
  },
  {
   "cell_type": "code",
   "execution_count": 7,
   "metadata": {},
   "outputs": [],
   "source": [
    "verticies = []\n",
    "for i in range(x.shape[0]):\n",
    "    verticies.append(tuple([x[i], y[i], z[i]]))"
   ]
  },
  {
   "cell_type": "code",
   "execution_count": 9,
   "metadata": {},
   "outputs": [
    {
     "data": {
      "text/plain": [
       "[(1.2246467991473532e-16, -2.0, 1.0),\n",
       " (1.4142135623730951, -1.4142135623730951, 1.0),\n",
       " (2.0, 0.0, 1.0),\n",
       " (1.4142135623730951, 1.4142135623730951, 1.0),\n",
       " (1.2246467991473532e-16, 2.0, 1.0),\n",
       " (1.2246467991473532e-16, -2.0, 0.0),\n",
       " (1.4142135623730951, -1.4142135623730951, 0.0),\n",
       " (2.0, 0.0, 0.0),\n",
       " (1.4142135623730951, 1.4142135623730951, 0.0),\n",
       " (1.2246467991473532e-16, 2.0, 0.0),\n",
       " (-0.49999999999999994, -1.0, 1.0),\n",
       " (0.20710678118654757, -0.7071067811865476, 1.0),\n",
       " (0.5, 0.0, 1.0),\n",
       " (0.20710678118654757, 0.7071067811865476, 1.0),\n",
       " (-0.49999999999999994, 1.0, 1.0),\n",
       " (-0.49999999999999994, -1.0, 0.0),\n",
       " (0.20710678118654757, -0.7071067811865476, 0.0),\n",
       " (0.5, 0.0, 0.0),\n",
       " (0.20710678118654757, 0.7071067811865476, 0.0),\n",
       " (-0.49999999999999994, 1.0, 0.0)]"
      ]
     },
     "execution_count": 9,
     "metadata": {},
     "output_type": "execute_result"
    }
   ],
   "source": [
    "verticies"
   ]
  },
  {
   "cell_type": "code",
   "execution_count": 10,
   "metadata": {},
   "outputs": [
    {
     "data": {
      "text/plain": [
       "((1.2246467991473532e-16, -2.0, 1.0),\n",
       " (1.4142135623730951, -1.4142135623730951, 1.0),\n",
       " (2.0, 0.0, 1.0),\n",
       " (1.4142135623730951, 1.4142135623730951, 1.0),\n",
       " (1.2246467991473532e-16, 2.0, 1.0),\n",
       " (1.2246467991473532e-16, -2.0, 0.0),\n",
       " (1.4142135623730951, -1.4142135623730951, 0.0),\n",
       " (2.0, 0.0, 0.0),\n",
       " (1.4142135623730951, 1.4142135623730951, 0.0),\n",
       " (1.2246467991473532e-16, 2.0, 0.0),\n",
       " (-0.49999999999999994, -1.0, 1.0),\n",
       " (0.20710678118654757, -0.7071067811865476, 1.0),\n",
       " (0.5, 0.0, 1.0),\n",
       " (0.20710678118654757, 0.7071067811865476, 1.0),\n",
       " (-0.49999999999999994, 1.0, 1.0),\n",
       " (-0.49999999999999994, -1.0, 0.0),\n",
       " (0.20710678118654757, -0.7071067811865476, 0.0),\n",
       " (0.5, 0.0, 0.0),\n",
       " (0.20710678118654757, 0.7071067811865476, 0.0),\n",
       " (-0.49999999999999994, 1.0, 0.0))"
      ]
     },
     "execution_count": 10,
     "metadata": {},
     "output_type": "execute_result"
    }
   ],
   "source": [
    "tuple(verticies)"
   ]
  },
  {
   "cell_type": "code",
   "execution_count": null,
   "metadata": {},
   "outputs": [],
   "source": [
    "def get_verticies(x, y, z):\n",
    "    verticies = []\n",
    "    for i in range(x.shape[0]):\n",
    "        verticies.append(tuple([x[i], y[i], z[i]]))\n",
    "    return tuple(verticies)"
   ]
  },
  {
   "cell_type": "code",
   "execution_count": 11,
   "metadata": {},
   "outputs": [],
   "source": [
    "def get_edges(x):\n",
    "    edges = []\n",
    "    size = x.shape[0]\n",
    "    i = 0\n",
    "    j = 1\n",
    "    while (j < size):\n",
    "        edges.append(tuple([i, j]))\n",
    "        i += 1\n",
    "        j += 1\n",
    "    return tuple(edges)"
   ]
  },
  {
   "cell_type": "code",
   "execution_count": 12,
   "metadata": {},
   "outputs": [
    {
     "data": {
      "text/plain": [
       "[(0, 1),\n",
       " (1, 2),\n",
       " (2, 3),\n",
       " (3, 4),\n",
       " (4, 5),\n",
       " (5, 6),\n",
       " (6, 7),\n",
       " (7, 8),\n",
       " (8, 9),\n",
       " (9, 10),\n",
       " (10, 11),\n",
       " (11, 12),\n",
       " (12, 13),\n",
       " (13, 14),\n",
       " (14, 15),\n",
       " (15, 16),\n",
       " (16, 17),\n",
       " (17, 18),\n",
       " (18, 19)]"
      ]
     },
     "execution_count": 12,
     "metadata": {},
     "output_type": "execute_result"
    }
   ],
   "source": [
    "edges"
   ]
  }
 ],
 "metadata": {
  "kernelspec": {
   "display_name": "Python 3.8.8 ('base')",
   "language": "python",
   "name": "python3"
  },
  "language_info": {
   "codemirror_mode": {
    "name": "ipython",
    "version": 3
   },
   "file_extension": ".py",
   "mimetype": "text/x-python",
   "name": "python",
   "nbconvert_exporter": "python",
   "pygments_lexer": "ipython3",
   "version": "3.8.8"
  },
  "orig_nbformat": 4,
  "vscode": {
   "interpreter": {
    "hash": "ad2bdc8ecc057115af97d19610ffacc2b4e99fae6737bb82f5d7fb13d2f2c186"
   }
  }
 },
 "nbformat": 4,
 "nbformat_minor": 2
}
